{
  "cells": [
    {
      "cell_type": "code",
      "execution_count": 1,
      "metadata": {
        "collapsed": false
      },
      "outputs": [],
      "source": [
        "%matplotlib inline"
      ]
    },
    {
      "cell_type": "markdown",
      "metadata": {},
      "source": [
        "\n",
        "Introduction to TorchScript\n",
        "===========================\n",
        "\n",
        "*James Reed (jamesreed@fb.com), Michael Suo (suo@fb.com)*, rev2\n",
        "\n",
        "This tutorial is an introduction to TorchScript, an intermediate\n",
        "representation of a PyTorch model (subclass of ``nn.Module``) that\n",
        "can then be run in a high-performance environment such as C++.\n",
        "\n",
        "In this tutorial we will cover:\n",
        "\n",
        "1. The basics of model authoring in PyTorch, including:\n",
        "\n",
        "-  Modules\n",
        "-  Defining ``forward`` functions\n",
        "-  Composing modules into a hierarchy of modules\n",
        "\n",
        "2. Specific methods for converting PyTorch modules to TorchScript, our\n",
        "   high-performance deployment runtime\n",
        "\n",
        "-  Tracing an existing module\n",
        "-  Using scripting to directly compile a module\n",
        "-  How to compose both approaches\n",
        "-  Saving and loading TorchScript modules\n",
        "\n",
        "We hope that after you complete this tutorial, you will proceed to go through\n",
        "`the follow-on tutorial <https://pytorch.org/tutorials/advanced/cpp_export.html>`_\n",
        "which will walk you through an example of actually calling a TorchScript\n",
        "model from C++.\n"
      ]
    },
    {
      "cell_type": "code",
      "execution_count": 2,
      "metadata": {
        "collapsed": false
      },
      "outputs": [
        {
          "name": "stdout",
          "output_type": "stream",
          "text": [
            "1.9.0\n"
          ]
        }
      ],
      "source": [
        "import torch  # This is all you need to use both PyTorch and TorchScript!\n",
        "print(torch.__version__)"
      ]
    },
    {
      "cell_type": "markdown",
      "metadata": {},
      "source": [
        "Basics of PyTorch Model Authoring\n",
        "---------------------------------\n",
        "\n",
        "Let’s start out be defining a simple ``Module``. A ``Module`` is the\n",
        "basic unit of composition in PyTorch. It contains:\n",
        "\n",
        "1. A constructor, which prepares the module for invocation\n",
        "2. A set of ``Parameters`` and sub-\\ ``Modules``. These are initialized\n",
        "   by the constructor and can be used by the module during invocation.\n",
        "3. A ``forward`` function. This is the code that is run when the module\n",
        "   is invoked.\n",
        "\n",
        "Let’s examine a small example:\n",
        "\n",
        "\n"
      ]
    },
    {
      "cell_type": "code",
      "execution_count": 4,
      "metadata": {
        "collapsed": false
      },
      "outputs": [
        {
          "name": "stdout",
          "output_type": "stream",
          "text": [
            "(tensor([[0.8365, 0.9548, 0.3858, 0.5456],\n",
            "        [0.8912, 0.6069, 0.4564, 0.8011],\n",
            "        [0.1472, 0.9030, 0.2156, 0.7694]]), tensor([[0.8365, 0.9548, 0.3858, 0.5456],\n",
            "        [0.8912, 0.6069, 0.4564, 0.8011],\n",
            "        [0.1472, 0.9030, 0.2156, 0.7694]]))\n"
          ]
        }
      ],
      "source": [
        "class MyCell(torch.nn.Module):\n",
        "    def __init__(self):\n",
        "        super(MyCell, self).__init__()\n",
        "\n",
        "    def forward(self, x, h):\n",
        "        new_h = torch.tanh(x + h)\n",
        "        return new_h, new_h\n",
        "\n",
        "my_cell = MyCell()\n",
        "x = torch.rand(3, 4)\n",
        "h = torch.rand(3, 4)\n",
        "print(my_cell(x, h))"
      ]
    },
    {
      "cell_type": "markdown",
      "metadata": {},
      "source": [
        "So we’ve:\n",
        "\n",
        "1. Created a class that subclasses ``torch.nn.Module``.\n",
        "2. Defined a constructor. The constructor doesn’t do much, just calls\n",
        "   the constructor for ``super``.\n",
        "3. Defined a ``forward`` function, which takes two inputs and returns\n",
        "   two outputs. The actual contents of the ``forward`` function are not\n",
        "   really important, but it’s sort of a fake `RNN\n",
        "   cell <https://colah.github.io/posts/2015-08-Understanding-LSTMs/>`__–that\n",
        "   is–it’s a function that is applied on a loop.\n",
        "\n",
        "We instantiated the module, and made ``x`` and ``h``, which are just 3x4\n",
        "matrices of random values. Then we invoked the cell with\n",
        "``my_cell(x, h)``. This in turn calls our ``forward`` function.\n",
        "\n",
        "Let’s do something a little more interesting:\n",
        "\n",
        "\n"
      ]
    },
    {
      "cell_type": "code",
      "execution_count": 5,
      "metadata": {
        "collapsed": false
      },
      "outputs": [
        {
          "name": "stdout",
          "output_type": "stream",
          "text": [
            "MyCell(\n",
            "  (linear): Linear(in_features=4, out_features=4, bias=True)\n",
            ")\n",
            "(tensor([[ 0.7986,  0.8872,  0.4145, -0.0644],\n",
            "        [ 0.8523,  0.3661,  0.2176,  0.4474],\n",
            "        [ 0.5033,  0.8264,  0.6260,  0.6834]], grad_fn=<TanhBackward>), tensor([[ 0.7986,  0.8872,  0.4145, -0.0644],\n",
            "        [ 0.8523,  0.3661,  0.2176,  0.4474],\n",
            "        [ 0.5033,  0.8264,  0.6260,  0.6834]], grad_fn=<TanhBackward>))\n"
          ]
        }
      ],
      "source": [
        "class MyCell(torch.nn.Module):\n",
        "    def __init__(self):\n",
        "        super(MyCell, self).__init__()\n",
        "        self.linear = torch.nn.Linear(4, 4)\n",
        "\n",
        "    def forward(self, x, h):\n",
        "        new_h = torch.tanh(self.linear(x) + h)\n",
        "        return new_h, new_h\n",
        "\n",
        "my_cell = MyCell()\n",
        "print(my_cell)\n",
        "print(my_cell(x, h))"
      ]
    },
    {
      "cell_type": "markdown",
      "metadata": {},
      "source": [
        "We’ve redefined our module ``MyCell``, but this time we’ve added a\n",
        "``self.linear`` attribute, and we invoke ``self.linear`` in the forward\n",
        "function.\n",
        "\n",
        "What exactly is happening here? ``torch.nn.Linear`` is a ``Module`` from\n",
        "the PyTorch standard library. Just like ``MyCell``, it can be invoked\n",
        "using the call syntax. We are building a hierarchy of ``Module``\\ s.\n",
        "\n",
        "``print`` on a ``Module`` will give a visual representation of the\n",
        "``Module``\\ ’s subclass hierarchy. In our example, we can see our\n",
        "``Linear`` subclass and its parameters.\n",
        "\n",
        "By composing ``Module``\\ s in this way, we can succintly and readably\n",
        "author models with reusable components.\n",
        "\n",
        "You may have noticed ``grad_fn`` on the outputs. This is a detail of\n",
        "PyTorch’s method of automatic differentiation, called\n",
        "`autograd <https://pytorch.org/tutorials/beginner/blitz/autograd_tutorial.html>`__.\n",
        "In short, this system allows us to compute derivatives through\n",
        "potentially complex programs. The design allows for a massive amount of\n",
        "flexibility in model authoring.\n",
        "\n",
        "Now let’s examine said flexibility:\n",
        "\n",
        "\n"
      ]
    },
    {
      "cell_type": "code",
      "execution_count": null,
      "metadata": {
        "collapsed": false
      },
      "outputs": [],
      "source": [
        "class MyDecisionGate(torch.nn.Module):\n",
        "    def forward(self, x):\n",
        "        if x.sum() > 0:\n",
        "            return x\n",
        "        else:\n",
        "            return -x\n",
        "\n",
        "class MyCell(torch.nn.Module):\n",
        "    def __init__(self):\n",
        "        super(MyCell, self).__init__()\n",
        "        self.dg = MyDecisionGate()\n",
        "        self.linear = torch.nn.Linear(4, 4)\n",
        "\n",
        "    def forward(self, x, h):\n",
        "        new_h = torch.tanh(self.dg(self.linear(x)) + h)\n",
        "        return new_h, new_h\n",
        "\n",
        "my_cell = MyCell()\n",
        "print(my_cell)\n",
        "print(my_cell(x, h))"
      ]
    },
    {
      "cell_type": "markdown",
      "metadata": {},
      "source": [
        "We’ve once again redefined our MyCell class, but here we’ve defined\n",
        "``MyDecisionGate``. This module utilizes **control flow**. Control flow\n",
        "consists of things like loops and ``if``-statements.\n",
        "\n",
        "Many frameworks take the approach of computing symbolic derivatives\n",
        "given a full program representation. However, in PyTorch, we use a\n",
        "gradient tape. We record operations as they occur, and replay them\n",
        "backwards in computing derivatives. In this way, the framework does not\n",
        "have to explicitly define derivatives for all constructs in the\n",
        "language.\n",
        "\n",
        ".. figure:: https://github.com/pytorch/pytorch/raw/master/docs/source/_static/img/dynamic_graph.gif\n",
        "   :alt: How autograd works\n",
        "\n",
        "   How autograd works\n",
        "\n",
        "\n"
      ]
    },
    {
      "cell_type": "markdown",
      "metadata": {},
      "source": [
        "Basics of TorchScript\n",
        "---------------------\n",
        "\n",
        "Now let’s take our running example and see how we can apply TorchScript.\n",
        "\n",
        "In short, TorchScript provides tools to capture the definition of your\n",
        "model, even in light of the flexible and dynamic nature of PyTorch.\n",
        "Let’s begin by examining what we call **tracing**.\n",
        "\n",
        "Tracing ``Modules``\n",
        "~~~~~~~~~~~~~~~~~~~\n",
        "\n",
        "\n"
      ]
    },
    {
      "cell_type": "code",
      "execution_count": 6,
      "metadata": {
        "collapsed": false
      },
      "outputs": [
        {
          "name": "stdout",
          "output_type": "stream",
          "text": [
            "MyCell(\n",
            "  original_name=MyCell\n",
            "  (linear): Linear(original_name=Linear)\n",
            ")\n"
          ]
        },
        {
          "data": {
            "text/plain": [
              "(tensor([[ 0.1059,  0.5350,  0.5868,  0.3970],\n",
              "         [-0.0311,  0.7782,  0.6097,  0.6892],\n",
              "         [ 0.3636,  0.6238,  0.8861,  0.7523]], grad_fn=<TanhBackward>),\n",
              " tensor([[ 0.1059,  0.5350,  0.5868,  0.3970],\n",
              "         [-0.0311,  0.7782,  0.6097,  0.6892],\n",
              "         [ 0.3636,  0.6238,  0.8861,  0.7523]], grad_fn=<TanhBackward>))"
            ]
          },
          "execution_count": 6,
          "metadata": {},
          "output_type": "execute_result"
        }
      ],
      "source": [
        "class MyCell(torch.nn.Module):\n",
        "    def __init__(self):\n",
        "        super(MyCell, self).__init__()\n",
        "        self.linear = torch.nn.Linear(4, 4)\n",
        "\n",
        "    def forward(self, x, h):\n",
        "        new_h = torch.tanh(self.linear(x) + h)\n",
        "        return new_h, new_h\n",
        "\n",
        "my_cell = MyCell()\n",
        "x, h = torch.rand(3, 4), torch.rand(3, 4)\n",
        "traced_cell = torch.jit.trace(my_cell, (x, h))\n",
        "print(traced_cell)\n",
        "traced_cell(x, h)"
      ]
    },
    {
      "cell_type": "markdown",
      "metadata": {},
      "source": [
        "We’ve rewinded a bit and taken the second version of our ``MyCell``\n",
        "class. As before, we’ve instantiated it, but this time, we’ve called\n",
        "``torch.jit.trace``, passed in the ``Module``, and passed in *example\n",
        "inputs* the network might see.\n",
        "\n",
        "What exactly has this done? It has invoked the ``Module``, recorded the\n",
        "operations that occured when the ``Module`` was run, and created an\n",
        "instance of ``torch.jit.ScriptModule`` (of which ``TracedModule`` is an\n",
        "instance)\n",
        "\n",
        "TorchScript records its definitions in an Intermediate Representation\n",
        "(or IR), commonly referred to in Deep learning as a *graph*. We can\n",
        "examine the graph with the ``.graph`` property:\n",
        "\n",
        "\n"
      ]
    },
    {
      "cell_type": "code",
      "execution_count": 7,
      "metadata": {
        "collapsed": false
      },
      "outputs": [
        {
          "name": "stdout",
          "output_type": "stream",
          "text": [
            "graph(%self.1 : __torch__.MyCell,\n",
            "      %x : Float(3, 4, strides=[4, 1], requires_grad=0, device=cpu),\n",
            "      %h : Float(3, 4, strides=[4, 1], requires_grad=0, device=cpu)):\n",
            "  %18 : __torch__.torch.nn.modules.linear.Linear = prim::GetAttr[name=\"linear\"](%self.1)\n",
            "  %20 : Tensor = prim::CallMethod[name=\"forward\"](%18, %x)\n",
            "  %11 : int = prim::Constant[value=1]() # /tmp/ipykernel_37437/260609686.py:7:0\n",
            "  %12 : Float(3, 4, strides=[4, 1], requires_grad=1, device=cpu) = aten::add(%20, %h, %11) # /tmp/ipykernel_37437/260609686.py:7:0\n",
            "  %13 : Float(3, 4, strides=[4, 1], requires_grad=1, device=cpu) = aten::tanh(%12) # /tmp/ipykernel_37437/260609686.py:7:0\n",
            "  %14 : (Float(3, 4, strides=[4, 1], requires_grad=1, device=cpu), Float(3, 4, strides=[4, 1], requires_grad=1, device=cpu)) = prim::TupleConstruct(%13, %13)\n",
            "  return (%14)\n",
            "\n"
          ]
        }
      ],
      "source": [
        "print(traced_cell.graph)"
      ]
    },
    {
      "cell_type": "markdown",
      "metadata": {},
      "source": [
        "However, this is a very low-level representation and most of the\n",
        "information contained in the graph is not useful for end users. Instead,\n",
        "we can use the ``.code`` property to give a Python-syntax interpretation\n",
        "of the code:\n",
        "\n",
        "\n"
      ]
    },
    {
      "cell_type": "code",
      "execution_count": 8,
      "metadata": {
        "collapsed": false
      },
      "outputs": [
        {
          "name": "stdout",
          "output_type": "stream",
          "text": [
            "def forward(self,\n",
            "    x: Tensor,\n",
            "    h: Tensor) -> Tuple[Tensor, Tensor]:\n",
            "  _0 = torch.add((self.linear).forward(x, ), h)\n",
            "  _1 = torch.tanh(_0)\n",
            "  return (_1, _1)\n",
            "\n"
          ]
        }
      ],
      "source": [
        "print(traced_cell.code)"
      ]
    },
    {
      "cell_type": "markdown",
      "metadata": {},
      "source": [
        "So **why** did we do all this? There are several reasons:\n",
        "\n",
        "1. TorchScript code can be invoked in its own interpreter, which is\n",
        "   basically a restricted Python interpreter. This interpreter does not\n",
        "   acquire the Global Interpreter Lock, and so many requests can be\n",
        "   processed on the same instance simultaneously.\n",
        "2. This format allows us to save the whole model to disk and load it\n",
        "   into another environment, such as in a server written in a language\n",
        "   other than Python\n",
        "3. TorchScript gives us a representation in which we can do compiler\n",
        "   optimizations on the code to provide more efficient execution\n",
        "4. TorchScript allows us to interface with many backend/device runtimes\n",
        "   that require a broader view of the program than individual operators.\n",
        "\n",
        "We can see that invoking ``traced_cell`` produces the same results as\n",
        "the Python module:\n",
        "\n",
        "\n"
      ]
    },
    {
      "cell_type": "code",
      "execution_count": 9,
      "metadata": {
        "collapsed": false
      },
      "outputs": [
        {
          "name": "stdout",
          "output_type": "stream",
          "text": [
            "(tensor([[ 0.1059,  0.5350,  0.5868,  0.3970],\n",
            "        [-0.0311,  0.7782,  0.6097,  0.6892],\n",
            "        [ 0.3636,  0.6238,  0.8861,  0.7523]], grad_fn=<TanhBackward>), tensor([[ 0.1059,  0.5350,  0.5868,  0.3970],\n",
            "        [-0.0311,  0.7782,  0.6097,  0.6892],\n",
            "        [ 0.3636,  0.6238,  0.8861,  0.7523]], grad_fn=<TanhBackward>))\n",
            "(tensor([[ 0.1059,  0.5350,  0.5868,  0.3970],\n",
            "        [-0.0311,  0.7782,  0.6097,  0.6892],\n",
            "        [ 0.3636,  0.6238,  0.8861,  0.7523]], grad_fn=<TanhBackward>), tensor([[ 0.1059,  0.5350,  0.5868,  0.3970],\n",
            "        [-0.0311,  0.7782,  0.6097,  0.6892],\n",
            "        [ 0.3636,  0.6238,  0.8861,  0.7523]], grad_fn=<TanhBackward>))\n"
          ]
        }
      ],
      "source": [
        "print(my_cell(x, h))\n",
        "print(traced_cell(x, h))"
      ]
    },
    {
      "cell_type": "markdown",
      "metadata": {},
      "source": [
        "Using Scripting to Convert Modules\n",
        "----------------------------------\n",
        "\n",
        "There’s a reason we used version two of our module, and not the one with\n",
        "the control-flow-laden submodule. Let’s examine that now:\n",
        "\n",
        "\n"
      ]
    },
    {
      "cell_type": "code",
      "execution_count": 10,
      "metadata": {
        "collapsed": false
      },
      "outputs": [
        {
          "name": "stdout",
          "output_type": "stream",
          "text": [
            "def forward(self,\n",
            "    argument_1: Tensor) -> Tensor:\n",
            "  return torch.neg(argument_1)\n",
            "\n",
            "def forward(self,\n",
            "    x: Tensor,\n",
            "    h: Tensor) -> Tuple[Tensor, Tensor]:\n",
            "  _0 = (self.dg).forward((self.linear).forward(x, ), )\n",
            "  _1 = torch.tanh(torch.add(_0, h))\n",
            "  return (_1, _1)\n",
            "\n"
          ]
        },
        {
          "name": "stderr",
          "output_type": "stream",
          "text": [
            "/tmp/ipykernel_37437/4234398751.py:3: TracerWarning: Converting a tensor to a Python boolean might cause the trace to be incorrect. We can't record the data flow of Python values, so this value will be treated as a constant in the future. This means that the trace might not generalize to other inputs!\n",
            "  if x.sum() > 0:\n"
          ]
        }
      ],
      "source": [
        "class MyDecisionGate(torch.nn.Module):\n",
        "    def forward(self, x):\n",
        "        if x.sum() > 0:\n",
        "            return x\n",
        "        else:\n",
        "            return -x\n",
        "\n",
        "class MyCell(torch.nn.Module):\n",
        "    def __init__(self, dg):\n",
        "        super(MyCell, self).__init__()\n",
        "        self.dg = dg\n",
        "        self.linear = torch.nn.Linear(4, 4)\n",
        "\n",
        "    def forward(self, x, h):\n",
        "        new_h = torch.tanh(self.dg(self.linear(x)) + h)\n",
        "        return new_h, new_h\n",
        "\n",
        "my_cell = MyCell(MyDecisionGate())\n",
        "traced_cell = torch.jit.trace(my_cell, (x, h))\n",
        "\n",
        "print(traced_cell.dg.code)\n",
        "print(traced_cell.code)"
      ]
    },
    {
      "cell_type": "markdown",
      "metadata": {},
      "source": [
        "Looking at the ``.code`` output, we can see that the ``if-else`` branch\n",
        "is nowhere to be found! Why? Tracing does exactly what we said it would:\n",
        "run the code, record the operations *that happen* and construct a\n",
        "ScriptModule that does exactly that. Unfortunately, things like control\n",
        "flow are erased.\n",
        "\n",
        "How can we faithfully represent this module in TorchScript? We provide a\n",
        "**script compiler**, which does direct analysis of your Python source\n",
        "code to transform it into TorchScript. Let’s convert ``MyDecisionGate``\n",
        "using the script compiler:\n",
        "\n",
        "\n"
      ]
    },
    {
      "cell_type": "code",
      "execution_count": 11,
      "metadata": {
        "collapsed": false
      },
      "outputs": [
        {
          "name": "stdout",
          "output_type": "stream",
          "text": [
            "def forward(self,\n",
            "    x: Tensor) -> Tensor:\n",
            "  if bool(torch.gt(torch.sum(x), 0)):\n",
            "    _0 = x\n",
            "  else:\n",
            "    _0 = torch.neg(x)\n",
            "  return _0\n",
            "\n",
            "def forward(self,\n",
            "    x: Tensor,\n",
            "    h: Tensor) -> Tuple[Tensor, Tensor]:\n",
            "  _0 = (self.dg).forward((self.linear).forward(x, ), )\n",
            "  new_h = torch.tanh(torch.add(_0, h))\n",
            "  return (new_h, new_h)\n",
            "\n"
          ]
        }
      ],
      "source": [
        "scripted_gate = torch.jit.script(MyDecisionGate())\n",
        "\n",
        "my_cell = MyCell(scripted_gate)\n",
        "scripted_cell = torch.jit.script(my_cell)\n",
        "\n",
        "print(scripted_gate.code)\n",
        "print(scripted_cell.code)"
      ]
    },
    {
      "cell_type": "markdown",
      "metadata": {},
      "source": [
        "Hooray! We’ve now faithfully captured the behavior of our program in\n",
        "TorchScript. Let’s now try running the program:\n",
        "\n",
        "\n"
      ]
    },
    {
      "cell_type": "code",
      "execution_count": 12,
      "metadata": {
        "collapsed": false
      },
      "outputs": [
        {
          "data": {
            "text/plain": [
              "(tensor([[0.1444, 0.6312, 0.6598, 0.5327],\n",
              "         [0.8774, 0.8696, 0.0562, 0.8709],\n",
              "         [0.7141, 0.8917, 0.6074, 0.7720]], grad_fn=<TanhBackward>),\n",
              " tensor([[0.1444, 0.6312, 0.6598, 0.5327],\n",
              "         [0.8774, 0.8696, 0.0562, 0.8709],\n",
              "         [0.7141, 0.8917, 0.6074, 0.7720]], grad_fn=<TanhBackward>))"
            ]
          },
          "execution_count": 12,
          "metadata": {},
          "output_type": "execute_result"
        }
      ],
      "source": [
        "# New inputs\n",
        "x, h = torch.rand(3, 4), torch.rand(3, 4)\n",
        "traced_cell(x, h)"
      ]
    },
    {
      "cell_type": "markdown",
      "metadata": {},
      "source": [
        "Mixing Scripting and Tracing\n",
        "~~~~~~~~~~~~~~~~~~~~~~~~~~~~\n",
        "\n",
        "Some situations call for using tracing rather than scripting (e.g. a\n",
        "module has many architectural decisions that are made based on constant\n",
        "Python values that we would like to not appear in TorchScript). In this\n",
        "case, scripting can be composed with tracing: ``torch.jit.script`` will\n",
        "inline the code for a traced module, and tracing will inline the code\n",
        "for a scripted module.\n",
        "\n",
        "An example of the first case:\n",
        "\n",
        "\n"
      ]
    },
    {
      "cell_type": "code",
      "execution_count": 13,
      "metadata": {
        "collapsed": false
      },
      "outputs": [
        {
          "name": "stdout",
          "output_type": "stream",
          "text": [
            "def forward(self,\n",
            "    xs: Tensor) -> Tuple[Tensor, Tensor]:\n",
            "  h = torch.zeros([3, 4])\n",
            "  y = torch.zeros([3, 4])\n",
            "  y0 = y\n",
            "  h0 = h\n",
            "  for i in range(torch.size(xs, 0)):\n",
            "    _0 = (self.cell).forward(torch.select(xs, 0, i), h0, )\n",
            "    y1, h1, = _0\n",
            "    y0, h0 = y1, h1\n",
            "  return (y0, h0)\n",
            "\n"
          ]
        }
      ],
      "source": [
        "class MyRNNLoop(torch.nn.Module):\n",
        "    def __init__(self):\n",
        "        super(MyRNNLoop, self).__init__()\n",
        "        self.cell = torch.jit.trace(MyCell(scripted_gate), (x, h))\n",
        "\n",
        "    def forward(self, xs):\n",
        "        h, y = torch.zeros(3, 4), torch.zeros(3, 4)\n",
        "        for i in range(xs.size(0)):\n",
        "            y, h = self.cell(xs[i], h)\n",
        "        return y, h\n",
        "\n",
        "rnn_loop = torch.jit.script(MyRNNLoop())\n",
        "print(rnn_loop.code)"
      ]
    },
    {
      "cell_type": "markdown",
      "metadata": {},
      "source": [
        "And an example of the second case:\n",
        "\n",
        "\n"
      ]
    },
    {
      "cell_type": "code",
      "execution_count": 14,
      "metadata": {
        "collapsed": false
      },
      "outputs": [
        {
          "name": "stdout",
          "output_type": "stream",
          "text": [
            "def forward(self,\n",
            "    xs: Tensor) -> Tensor:\n",
            "  _0, y, = (self.loop).forward(xs, )\n",
            "  return torch.relu(y)\n",
            "\n"
          ]
        }
      ],
      "source": [
        "class WrapRNN(torch.nn.Module):\n",
        "    def __init__(self):\n",
        "        super(WrapRNN, self).__init__()\n",
        "        self.loop = torch.jit.script(MyRNNLoop())\n",
        "\n",
        "    def forward(self, xs):\n",
        "        y, h = self.loop(xs)\n",
        "        return torch.relu(y)\n",
        "\n",
        "traced = torch.jit.trace(WrapRNN(), (torch.rand(10, 3, 4)))\n",
        "print(traced.code)"
      ]
    },
    {
      "cell_type": "markdown",
      "metadata": {},
      "source": [
        "This way, scripting and tracing can be used when the situation calls for\n",
        "each of them and used together.\n",
        "\n",
        "Saving and Loading models\n",
        "-------------------------\n",
        "\n",
        "We provide APIs to save and load TorchScript modules to/from disk in an\n",
        "archive format. This format includes code, parameters, attributes, and\n",
        "debug information, meaning that the archive is a freestanding\n",
        "representation of the model that can be loaded in an entirely separate\n",
        "process. Let’s save and load our wrapped RNN module:\n",
        "\n",
        "\n"
      ]
    },
    {
      "cell_type": "code",
      "execution_count": 15,
      "metadata": {
        "collapsed": false
      },
      "outputs": [
        {
          "name": "stdout",
          "output_type": "stream",
          "text": [
            "RecursiveScriptModule(\n",
            "  original_name=WrapRNN\n",
            "  (loop): RecursiveScriptModule(\n",
            "    original_name=MyRNNLoop\n",
            "    (cell): RecursiveScriptModule(\n",
            "      original_name=MyCell\n",
            "      (dg): RecursiveScriptModule(original_name=MyDecisionGate)\n",
            "      (linear): RecursiveScriptModule(original_name=Linear)\n",
            "    )\n",
            "  )\n",
            ")\n",
            "def forward(self,\n",
            "    xs: Tensor) -> Tensor:\n",
            "  _0, y, = (self.loop).forward(xs, )\n",
            "  return torch.relu(y)\n",
            "\n"
          ]
        }
      ],
      "source": [
        "traced.save('wrapped_rnn.pt')\n",
        "\n",
        "loaded = torch.jit.load('wrapped_rnn.pt')\n",
        "\n",
        "print(loaded)\n",
        "print(loaded.code)"
      ]
    },
    {
      "cell_type": "markdown",
      "metadata": {},
      "source": [
        "As you can see, serialization preserves the module hierarchy and the\n",
        "code we’ve been examining throughout. The model can also be loaded, for\n",
        "example, `into\n",
        "C++ <https://pytorch.org/tutorials/advanced/cpp_export.html>`__ for\n",
        "python-free execution.\n",
        "\n",
        "Further Reading\n",
        "~~~~~~~~~~~~~~~\n",
        "\n",
        "We’ve completed our tutorial! For a more involved demonstration, check\n",
        "out the NeurIPS demo for converting machine translation models using\n",
        "TorchScript:\n",
        "https://colab.research.google.com/drive/1HiICg6jRkBnr5hvK2-VnMi88Vi9pUzEJ\n",
        "\n",
        "\n"
      ]
    },
    {
      "cell_type": "markdown",
      "metadata": {},
      "source": [
        "import torch\n",
        "import torchvision\n",
        "\n",
        "# An instance of your model.\n",
        "model = torchvision.models.resnet18()\n",
        "\n",
        "# An example input you would normally provide to your model's forward() method.\n",
        "example = torch.rand(1, 3, 224, 224)\n",
        "\n",
        "# Use torch.jit.trace to generate a torch.jit.ScriptModule via tracing.\n",
        "traced_script_module = torch.jit.trace(model, example)"
      ]
    },
    {
      "cell_type": "markdown",
      "metadata": {},
      "source": []
    },
    {
      "cell_type": "code",
      "execution_count": 16,
      "metadata": {},
      "outputs": [
        {
          "name": "stderr",
          "output_type": "stream",
          "text": [
            "/home/ayoola/miniconda3/envs/pytorch/lib/python3.9/site-packages/torch/nn/functional.py:718: UserWarning: Named tensors and all their associated APIs are an experimental feature and subject to change. Please do not use them for anything important until they are released as stable. (Triggered internally at  /opt/conda/conda-bld/pytorch_1623448238472/work/c10/core/TensorImpl.h:1156.)\n",
            "  return torch.max_pool2d(input, kernel_size, stride, padding, dilation, ceil_mode)\n"
          ]
        }
      ],
      "source": [
        "import torch\n",
        "import torchvision\n",
        "\n",
        "# An instance of your model.\n",
        "model = torchvision.models.resnet18()\n",
        "\n",
        "# An example input you would normally provide to your model's forward() method.\n",
        "example = torch.rand(1, 3, 224, 224)\n",
        "\n",
        "# Use torch.jit.trace to generate a torch.jit.ScriptModule via tracing.\n",
        "traced_script_module = torch.jit.trace(model, example)"
      ]
    },
    {
      "cell_type": "code",
      "execution_count": 19,
      "metadata": {},
      "outputs": [
        {
          "name": "stdout",
          "output_type": "stream",
          "text": [
            "def forward(self,\n",
            "    x: Tensor) -> Tensor:\n",
            "  _0 = self.fc\n",
            "  _1 = self.avgpool\n",
            "  _2 = self.layer4\n",
            "  _3 = self.layer3\n",
            "  _4 = self.layer2\n",
            "  _5 = self.layer1\n",
            "  _6 = self.maxpool\n",
            "  _7 = self.relu\n",
            "  _8 = (self.bn1).forward((self.conv1).forward(x, ), )\n",
            "  _9 = (_5).forward((_6).forward((_7).forward(_8, ), ), )\n",
            "  _10 = (_2).forward((_3).forward((_4).forward(_9, ), ), )\n",
            "  input = torch.flatten((_1).forward(_10, ), 1)\n",
            "  return (_0).forward(input, )\n",
            "\n"
          ]
        }
      ],
      "source": [
        "print(traced_script_module.code)\"\"\"  \"\"\""
      ]
    },
    {
      "cell_type": "code",
      "execution_count": 20,
      "metadata": {},
      "outputs": [],
      "source": [
        "class MyModule(torch.nn.Module):\n",
        "    def __init__(self, N, M):\n",
        "        super(MyModule, self).__init__()\n",
        "        self.weight = torch.nn.Parameter(torch.rand(N, M))\n",
        "\n",
        "    def forward(self, input):\n",
        "        if input.sum() > 0:\n",
        "          output = self.weight.mv(input)\n",
        "        else:\n",
        "          output = self.weight + input\n",
        "        return output\n",
        "\n",
        "my_module = MyModule(10,20)\n",
        "sm = torch.jit.script(my_module)"
      ]
    },
    {
      "cell_type": "code",
      "execution_count": 21,
      "metadata": {},
      "outputs": [
        {
          "ename": "TypeError",
          "evalue": "'str' object is not callable",
          "output_type": "error",
          "traceback": [
            "\u001b[0;31m---------------------------------------------------------------------------\u001b[0m",
            "\u001b[0;31mTypeError\u001b[0m                                 Traceback (most recent call last)",
            "\u001b[1;32m/home/ayoola/pytorch/Intro_to_TorchScript_tutorial.ipynb Cell 37\u001b[0m in \u001b[0;36m<cell line: 1>\u001b[0;34m()\u001b[0m\n\u001b[0;32m----> <a href='vscode-notebook-cell:/home/ayoola/pytorch/Intro_to_TorchScript_tutorial.ipynb#ch0000035?line=0'>1</a>\u001b[0m \u001b[39mprint\u001b[39m(sm\u001b[39m.\u001b[39;49mcode())\n",
            "\u001b[0;31mTypeError\u001b[0m: 'str' object is not callable"
          ]
        }
      ],
      "source": [
        "print(sm.code())"
      ]
    },
    {
      "cell_type": "code",
      "execution_count": 28,
      "metadata": {},
      "outputs": [],
      "source": [
        "traced_script_module.save('ayo.pt')"
      ]
    },
    {
      "cell_type": "code",
      "execution_count": 27,
      "metadata": {},
      "outputs": [
        {
          "ename": "TypeError",
          "evalue": "save() missing 1 required positional argument: 'f'",
          "output_type": "error",
          "traceback": [
            "\u001b[0;31m---------------------------------------------------------------------------\u001b[0m",
            "\u001b[0;31mTypeError\u001b[0m                                 Traceback (most recent call last)",
            "\u001b[1;32m/home/ayoola/pytorch/Intro_to_TorchScript_tutorial.ipynb Cell 39\u001b[0m in \u001b[0;36m<cell line: 1>\u001b[0;34m()\u001b[0m\n\u001b[0;32m----> <a href='vscode-notebook-cell:/home/ayoola/pytorch/Intro_to_TorchScript_tutorial.ipynb#ch0000038?line=0'>1</a>\u001b[0m sm\u001b[39m.\u001b[39;49msave()\n",
            "\u001b[0;31mTypeError\u001b[0m: save() missing 1 required positional argument: 'f'"
          ]
        }
      ],
      "source": [
        "sm.save()"
      ]
    },
    {
      "cell_type": "code",
      "execution_count": 25,
      "metadata": {},
      "outputs": [],
      "source": [
        "sm.save('bree.pt')"
      ]
    },
    {
      "cell_type": "code",
      "execution_count": 1,
      "metadata": {},
      "outputs": [
        {
          "name": "stderr",
          "output_type": "stream",
          "text": [
            "Downloading: \"https://download.pytorch.org/models/resnet18-f37072fd.pth\" to /home/ayoola/.cache/torch/hub/checkpoints/resnet18-f37072fd.pth\n",
            "100.0%\n"
          ]
        }
      ],
      "source": [
        "import torch, torchvision\n",
        "model = torchvision.models.resnet18(pretrained=True)\n",
        "data = torch.rand(1, 3, 64, 64)\n",
        "labels = torch.rand(1, 1000)"
      ]
    },
    {
      "cell_type": "code",
      "execution_count": 2,
      "metadata": {},
      "outputs": [
        {
          "name": "stderr",
          "output_type": "stream",
          "text": [
            "/home/ayoola/miniconda3/envs/pytorch/lib/python3.9/site-packages/torch/nn/functional.py:718: UserWarning: Named tensors and all their associated APIs are an experimental feature and subject to change. Please do not use them for anything important until they are released as stable. (Triggered internally at  /opt/conda/conda-bld/pytorch_1623448238472/work/c10/core/TensorImpl.h:1156.)\n",
            "  return torch.max_pool2d(input, kernel_size, stride, padding, dilation, ceil_mode)\n"
          ]
        }
      ],
      "source": [
        "prediction = model(data) # forward pass"
      ]
    },
    {
      "cell_type": "code",
      "execution_count": 3,
      "metadata": {},
      "outputs": [],
      "source": [
        "loss = (prediction - labels).sum()\n",
        "loss.backward() # backward pass"
      ]
    },
    {
      "cell_type": "code",
      "execution_count": 4,
      "metadata": {},
      "outputs": [],
      "source": [
        "optim = torch.optim.SGD(model.parameters(), lr=1e-2, momentum=0.9)"
      ]
    },
    {
      "cell_type": "code",
      "execution_count": 5,
      "metadata": {},
      "outputs": [],
      "source": [
        "optim.step() #gradient descent"
      ]
    },
    {
      "cell_type": "code",
      "execution_count": 6,
      "metadata": {},
      "outputs": [],
      "source": [
        "import torch\n",
        "\n",
        "a = torch.tensor([2., 3.], requires_grad=True)\n",
        "b = torch.tensor([6., 4.], requires_grad=True)"
      ]
    },
    {
      "cell_type": "code",
      "execution_count": 7,
      "metadata": {},
      "outputs": [],
      "source": [
        "Q = 3*a**3 - b**2"
      ]
    },
    {
      "cell_type": "code",
      "execution_count": 8,
      "metadata": {},
      "outputs": [],
      "source": [
        "external_grad = torch.tensor([1., 1.])\n",
        "Q.backward(gradient=external_grad)"
      ]
    },
    {
      "cell_type": "code",
      "execution_count": 9,
      "metadata": {},
      "outputs": [
        {
          "name": "stdout",
          "output_type": "stream",
          "text": [
            "tensor([True, True])\n",
            "tensor([True, True])\n"
          ]
        }
      ],
      "source": [
        "# check if collected gradients are correct\n",
        "print(9*a**2 == a.grad)\n",
        "print(-2*b == b.grad)"
      ]
    },
    {
      "cell_type": "code",
      "execution_count": 10,
      "metadata": {},
      "outputs": [
        {
          "name": "stdout",
          "output_type": "stream",
          "text": [
            "Does `a` require gradients? : False\n",
            "Does `b` require gradients?: True\n"
          ]
        }
      ],
      "source": [
        "x = torch.rand(5, 5)\n",
        "y = torch.rand(5, 5)\n",
        "z = torch.rand((5, 5), requires_grad=True)\n",
        "\n",
        "a = x + y\n",
        "print(f\"Does `a` require gradients? : {a.requires_grad}\")\n",
        "b = x + z\n",
        "print(f\"Does `b` require gradients?: {b.requires_grad}\")"
      ]
    },
    {
      "cell_type": "code",
      "execution_count": 11,
      "metadata": {},
      "outputs": [],
      "source": [
        "from torch import nn, optim\n",
        "\n",
        "model = torchvision.models.resnet18(pretrained=True)\n",
        "\n",
        "# Freeze all the parameters in the network\n",
        "for param in model.parameters():\n",
        "    param.requires_grad = False"
      ]
    },
    {
      "cell_type": "code",
      "execution_count": 12,
      "metadata": {},
      "outputs": [],
      "source": [
        "model.fc = nn.Linear(512, 10)"
      ]
    },
    {
      "cell_type": "code",
      "execution_count": null,
      "metadata": {},
      "outputs": [],
      "source": [
        "# Optimize only the classifier\n",
        "optimizer = optim.SGD(model.parameters(), lr=1e-2, momentum=0.9)"
      ]
    },
    {
      "cell_type": "code",
      "execution_count": null,
      "metadata": {},
      "outputs": [],
      "source": []
    },
    {
      "cell_type": "code",
      "execution_count": null,
      "metadata": {},
      "outputs": [],
      "source": []
    },
    {
      "cell_type": "code",
      "execution_count": null,
      "metadata": {},
      "outputs": [],
      "source": []
    },
    {
      "cell_type": "code",
      "execution_count": null,
      "metadata": {},
      "outputs": [],
      "source": []
    },
    {
      "cell_type": "code",
      "execution_count": null,
      "metadata": {},
      "outputs": [],
      "source": []
    },
    {
      "cell_type": "code",
      "execution_count": null,
      "metadata": {},
      "outputs": [],
      "source": []
    }
  ],
  "metadata": {
    "kernelspec": {
      "display_name": "Python 3.9.12 ('pytorch')",
      "language": "python",
      "name": "python3"
    },
    "language_info": {
      "codemirror_mode": {
        "name": "ipython",
        "version": 3
      },
      "file_extension": ".py",
      "mimetype": "text/x-python",
      "name": "python",
      "nbconvert_exporter": "python",
      "pygments_lexer": "ipython3",
      "version": "3.9.12"
    },
    "vscode": {
      "interpreter": {
        "hash": "bb8ee0905303579b5eb5188f504f42a0098facad8e672ee524a327b6e6954ce6"
      }
    }
  },
  "nbformat": 4,
  "nbformat_minor": 0
}
